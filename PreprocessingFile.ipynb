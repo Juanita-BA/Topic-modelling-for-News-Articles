{
 "cells": [
  {
   "cell_type": "code",
   "execution_count": 1,
   "metadata": {},
   "outputs": [],
   "source": [
    "import pandas as pd"
   ]
  },
  {
   "cell_type": "code",
   "execution_count": null,
   "metadata": {},
   "outputs": [],
   "source": [
    "df = pd.read_csv(\"train_cnn.csv\")"
   ]
  },
  {
   "cell_type": "code",
   "execution_count": null,
   "metadata": {},
   "outputs": [],
   "source": [
    "df = df.sample(50000)"
   ]
  },
  {
   "cell_type": "code",
   "execution_count": null,
   "metadata": {},
   "outputs": [],
   "source": [
    "combine the article and highlights \n",
    "df['text'] = df['article'] + \" \" + df['highlights'] \n",
    "df.head()"
   ]
  },
  {
   "cell_type": "code",
   "execution_count": 3,
   "metadata": {},
   "outputs": [],
   "source": [
    "#preprocessing data\n",
    "import spacy\n",
    "import re\n",
    "from spacy.lang.en.stop_words import STOP_WORDS\n",
    "stopword_list = list(STOP_WORDS)\n",
    "nlp_en = spacy.load('en_core_web_lg')\n",
    "\n",
    "def preprocess(txt):\n",
    "    txt = txt.lower()    #normalizing the text\n",
    "    txt = re.sub(r'[^a-zA-Z]', ' ', txt)\n",
    "    docs = nlp_en(txt)\n",
    "    #lemmatizing and removing stop words\n",
    "    word_list = [doc.lemma_ for doc in docs if doc.text not in stopword_list]\n",
    "    txt = \" \".join(word_list)\n",
    "    txt = txt.replace(\"-PRON-\", \"\")\n",
    "    txt = txt.replace(\"PRON\", \"\")\n",
    "    return txt"
   ]
  },
  {
   "cell_type": "code",
   "execution_count": null,
   "metadata": {},
   "outputs": [],
   "source": [
    "df['cleaned_text']=df['text'].apply(preprocess)\n",
    "cleaned_corpus = list(df['cleaned_text'])"
   ]
  },
  {
   "cell_type": "code",
   "execution_count": null,
   "metadata": {},
   "outputs": [],
   "source": [
    "df.to_csv(\"preprocessed_text.csv\")"
   ]
  }
 ],
 "metadata": {
  "kernelspec": {
   "display_name": "ds_project",
   "language": "python",
   "name": "python3"
  },
  "language_info": {
   "codemirror_mode": {
    "name": "ipython",
    "version": 3
   },
   "file_extension": ".py",
   "mimetype": "text/x-python",
   "name": "python",
   "nbconvert_exporter": "python",
   "pygments_lexer": "ipython3",
   "version": "3.9.6"
  },
  "orig_nbformat": 4
 },
 "nbformat": 4,
 "nbformat_minor": 2
}
